{
 "cells": [
  {
   "cell_type": "code",
   "execution_count": 85,
   "metadata": {},
   "outputs": [
    {
     "name": "stdout",
     "output_type": "stream",
     "text": [
      "私有属性path更新为: /Users/dt/Desktop/barra/data\n"
     ]
    }
   ],
   "source": [
    "import pandas as pd,numpy as np,datetime,time,re,copy,pickle\n",
    "import pyodbc as pyd\n",
    "from dateutil.parser import parse\n",
    "import os,sys,io_data\n",
    "import importlib\n",
    "importlib.reload(io_data)\n",
    "from pdb import set_trace\n",
    "from dateutil.parser import parse\n",
    "import Redundant_func as Rf\n",
    "\n",
    "\n",
    "io1 = io_data.io_d1()\n",
    "io1.path = {\"value\":\"data\",\"typ\":\"part_name\"}"
   ]
  },
  {
   "cell_type": "markdown",
   "metadata": {},
   "source": [
    "### 沪深300+中证500股票池，剔除停牌，被st标的，动态池"
   ]
  },
  {
   "cell_type": "markdown",
   "metadata": {},
   "source": [
    "##### 样本选择，对应行业分类标准"
   ]
  },
  {
   "cell_type": "code",
   "execution_count": 70,
   "metadata": {},
   "outputs": [],
   "source": [
    "#A股+大盘指数\n",
    "Code_name = pd.read_sql(\"\"\"\n",
    "select * from SecuMain \n",
    "where SecuMarket in (83,90)\n",
    "and SecuCategory in (1,4)\n",
    "and ListedSector in (1,6)\n",
    "\"\"\",con = conn)\n",
    "io1.upload(Code_name,\"Code_name\")"
   ]
  },
  {
   "cell_type": "code",
   "execution_count": 166,
   "metadata": {},
   "outputs": [],
   "source": [
    "#复权信息下载\n",
    "fuquan_factor = pd.read_sql(\"\"\"\n",
    "select a.ExDiviDate,b.SecuCode,a.AdjustingFactor,a.AdjustingConst\n",
    "from QT_AdjustingFactor as a\n",
    "left join SecuMain as b\n",
    "on a.InnerCode = b.InnerCode \n",
    "where b.SecuCode in (%s)\n",
    "and a.ExDiviDate > '2014-01-01'\n",
    "\"\"\"%(\"'\"+\"','\".join(valid_code)+\"'\"),con = conn)\n",
    "io1.upload(fuquan_factor,\"fuquan\")"
   ]
  },
  {
   "cell_type": "code",
   "execution_count": 71,
   "metadata": {},
   "outputs": [],
   "source": [
    "#指数基本信息\n",
    "Index_info = pd.read_sql(\"\"\"\n",
    "select * from LC_IndexBasicInfo as a\n",
    "left join SecuMain as b\n",
    "on a.IndexCode = b.InnerCode\n",
    "and a.ComponentType = 1000\n",
    "\"\"\",con = conn)\n",
    "io1.upload(Index_info,\"Index_info\")"
   ]
  },
  {
   "cell_type": "code",
   "execution_count": 87,
   "metadata": {},
   "outputs": [],
   "source": [
    "#指数成分权重\n",
    "HS_Component = pd.read_sql(\"\"\"\n",
    "select a1.SecuInnerCode,a1.SecuMarket,a1.InDate,a1.OutDate,\n",
    "b1.SecuCode,b1.ChiName,b1.ChiNameAbbr,a1.SecuCode1\n",
    "from (select a.SecuInnerCode,a.SecuMarket,a.InDate,a.OutDate,b.SecuCode as SecuCode1\n",
    "from LC_IndexComponent as a\n",
    "left join SecuMain as b\n",
    "on a.IndexInnerCode = b.InnerCode\n",
    "where b.SecuCode = '000300' \n",
    ") as a1\n",
    "left join SecuMain as b1\n",
    "on a1.SecuInnerCode = b1.InnerCode\n",
    "and ((a1.OutDate is Null) or a1.OutDate > '2015-01-01')\n",
    "\"\"\",con = conn)\n",
    "\n",
    "ZZ_Component = pd.read_sql(\"\"\"\n",
    "select a1.SecuInnerCode,a1.SecuMarket,a1.InDate,a1.OutDate,\n",
    "b1.SecuCode,b1.ChiName,b1.ChiNameAbbr,a1.SecuCode1\n",
    "from (select a.SecuInnerCode,a.SecuMarket,a.InDate,a.OutDate,b.SecuCode as SecuCode1\n",
    "from LC_IndexComponent as a\n",
    "left join SecuMain as b\n",
    "on a.IndexInnerCode = b.InnerCode\n",
    "where b.SecuCode = '000905' \n",
    ") as a1\n",
    "left join SecuMain as b1\n",
    "on a1.SecuInnerCode = b1.InnerCode\n",
    "and ((a1.OutDate is Null) or a1.OutDate > '2015-01-01')\n",
    "\"\"\",con = conn)\n",
    "io1.upload(HS_Component,\"HS_comp\")\n",
    "io1.upload(ZZ_Component,\"ZZ_comp\")\n",
    "#退市、st标的，沪深300，中证500标的区间不会出现退市、分红"
   ]
  },
  {
   "cell_type": "code",
   "execution_count": 88,
   "metadata": {},
   "outputs": [],
   "source": [
    "#需要查找的公司标的\n",
    "importlib.reload(Rf)\n",
    "valid_code = Rf.extract_valid_company(pd.unique(HS_Component[\"SecuCode\"]),\\\n",
    "                                     pd.unique(ZZ_Component[\"SecuCode\"]),typ = \"kechuang\")\n",
    "\n",
    "# io1.upload(valid_code,\"valid_code_chuangye\")"
   ]
  },
  {
   "cell_type": "code",
   "execution_count": 116,
   "metadata": {},
   "outputs": [],
   "source": [
    "#行业信息\n",
    "Industry_info = pd.read_sql(\"\"\"\n",
    "select b.SecuCode,a.InfoPublDate,a.Industry,a.FirstIndustryName,\n",
    "a.SecondIndustryName,a.InsertTime\n",
    "from LC_ExgIndustry as a\n",
    "left join SecuMain as b\n",
    "on a.CompanyCode = b.InnerCode\n",
    "where b.SecuCode in (%s)\n",
    "and a.Standard = 38\n",
    "and a.IfPerformed = 1\n",
    "\"\"\"%(\"'\"+\"','\".join(valid_code)+\"'\"),con = conn)\n",
    "\n",
    "Industry_info1 = pd.read_sql(\"\"\"\n",
    "select b.SecuCode,a.InfoPublDate,a.Industry,a.FirstIndustryName,\n",
    "a.SecondIndustryName,a.InsertTime\n",
    "from LC_ExgIndustry as a\n",
    "left join SecuMain as b\n",
    "on a.CompanyCode = b.InnerCode\n",
    "where b.SecuCode in (%s)\n",
    "and a.Standard = 24\n",
    "and a.IfPerformed = 1\n",
    "\"\"\"%(\"'\"+\"','\".join(valid_code)+\"'\"),con = conn)\n",
    "io1.upload(Industry_info,\"Industry_info_new\")\n",
    "io1.upload(Industry_info1,\"Industry_info_old\")"
   ]
  },
  {
   "cell_type": "code",
   "execution_count": 126,
   "metadata": {},
   "outputs": [],
   "source": [
    "#hs300指数收益率\n",
    "hs300_price = pd.read_sql(\"\"\"\n",
    "select a.TradingDay,b.SecuCode,\n",
    "a.PrevClosePrice,a.OpenPrice,a.HighPrice,a.LowPrice,a.ClosePrice,a.ChangePCT\n",
    "from QT_CSIIndexQuote as a \n",
    "left join SecuMain as b\n",
    "on a.IndexCode = b.InnerCode\n",
    "where b.SecuCode = '000300'\n",
    "and a.TradingDay > '2015-01-01'\n",
    "\"\"\",con = conn)\n",
    "io1.upload(hs300_price.sort_values(\"TradingDay\"),\"hs300_price\")"
   ]
  },
  {
   "cell_type": "code",
   "execution_count": 138,
   "metadata": {},
   "outputs": [],
   "source": [
    "#个股收益率\n",
    "Individual_stock_ret = pd.read_sql(\"\"\"\n",
    "select a.TradingDay,b.SecuCode,a.PrevClosePrice,a.OpenPrice,a.HighPrice,a.LowPrice,a.ClosePrice,\n",
    "a.ChangePCT,a.BetaHS300Index,a.BetaCompositeIndex,a.AlphaHS300Index,a.AlphaCompositeIndex\n",
    "from QT_Performance as a\n",
    "left join SecuMain as b\n",
    "on a.InnerCode = b.InnerCode\n",
    "where b.SecuCode in (%s)\n",
    "and a.TradingDay > '2015-01-01'\n",
    "and b.SecuCategory in (1)\n",
    "and b.SecuMarket in (83,90)\n",
    "\"\"\"%(\"'\"+\"','\".join(valid_code)+\"'\"),con = conn)\n",
    "\n",
    "io1.upload(Individual_stock_ret.sort_values([\"SecuCode\",\"TradingDay\"]),\"Individual_ret\")"
   ]
  },
  {
   "cell_type": "code",
   "execution_count": 143,
   "metadata": {},
   "outputs": [],
   "source": [
    "#总市值(万元)，成交量（万股）\n",
    "TotalAsset_volume = pd.read_sql(\"\"\"\n",
    "select a.TradingDay,b.SecuCode,a.TurnoverVolume,a.TotalMV,a.NegotiableMV\n",
    "from QT_Performance as a\n",
    "left join SecuMain as b\n",
    "on a.InnerCode = b.InnerCode\n",
    "where b.SecuCode in (%s)\n",
    "and a.TradingDay > '2015-01-01'\n",
    "and b.SecuCategory in (1)\n",
    "and b.SecuMarket in (83,90)\n",
    "\"\"\"%(\"'\"+\"','\".join(valid_code)+\"'\"),con = conn)\n",
    "\n",
    "#成交量（万股）\n",
    "io1.upload(TotalAsset_volume.sort_values([\"SecuCode\",\"TradingDay\"]),\"TotalAsset_volume\")"
   ]
  },
  {
   "cell_type": "code",
   "execution_count": 90,
   "metadata": {},
   "outputs": [],
   "source": [
    "#长期债务(元)，历史pe值\n",
    "Long_Liability = pd.read_sql(\"\"\"\n",
    "select a.InfoPublDate,a.EndDate,b.SecuCode,a.TotalLongtermLiability\n",
    "from LC_BalanceSheet as a\n",
    "left join SecuMain as b\n",
    "on a.CompanyCode = b.InnerCode\n",
    "where b.SecuCode in (%s)\n",
    "and a.InfoPublDate > '2015-01-01'\n",
    "and a.EndDate > '2015-01-01'\n",
    "and b.SecuCategory in (1)\n",
    "and b.SecuMarket in (83,90)\n",
    "and a.IfMerged = 1\n",
    "\"\"\"%(\"'\"+\"','\".join(valid_code)+\"'\"),con = conn)\n",
    "\n",
    "PE = pd.read_sql(\"\"\"\n",
    "select a.TradingDay,b.SecuCode,a.PE\n",
    "from LC_DIndicesForValuation as a\n",
    "left join SecuMain as b\n",
    "on a.InnerCode = b.InnerCode\n",
    "where b.SecuCode in (%s)\n",
    "and a.TradingDay > '2015-01-01'\n",
    "and b.SecuCategory in (1)\n",
    "and b.SecuMarket in (83,90)\n",
    "\"\"\"%(\"'\"+\"','\".join(valid_code)+\"'\"),con = conn)"
   ]
  },
  {
   "cell_type": "code",
   "execution_count": 150,
   "metadata": {},
   "outputs": [],
   "source": [
    "io1.upload(Long_Liability.sort_values([\"SecuCode\"]),\"Long_Liability\")\n",
    "io1.upload(PE.sort_values([\"SecuCode\",\"TradingDay\"]),\"PE\")"
   ]
  },
  {
   "cell_type": "code",
   "execution_count": 251,
   "metadata": {},
   "outputs": [],
   "source": [
    "#增加NetOperateCashFlow,NetInvestCashFlow,NetFinanceCashFlow,现金收益（元）\n",
    "#OperatingReenue + NonoperatingIncome - NonoperatingExpense,营业总收入(元)\n",
    "#所有者权益，过去5年归属母公司净利润，过去5年营业总收入\n",
    "Cash_earnings = pd.read_sql(\"\"\"\n",
    "select a.InfoPublDate,a.EndDate,b.SecuCode,a.TotalShareholderEquity,\n",
    "a.EPS*a.TotalShareholderEquity as Mu_profit,\n",
    "(a.OperatingReenue + a.NonoperatingIncome - a.NonoperatingExpense) as All_Income,\n",
    "(a.NetOperateCashFlow + a.NetInvestCashFlow + a.NetFinanceCashFlow) as cash_profit,\n",
    "a.TotalShares\n",
    "from LC_MainDataNew as a\n",
    "left join SecuMain as b\n",
    "on a.CompanyCode = b.CompanyCode\n",
    "where b.SecuCode in (%s)\n",
    "and a.InfoPublDate > '2012-01-01'\n",
    "and a.EndDate > '2012-01-01'\n",
    "and b.SecuCategory in (1)\n",
    "and b.SecuMarket in (83,90)\n",
    "and a.AccountingStandards = 1\n",
    "and a.Mark = 1\n",
    "\"\"\"%(\"'\"+\"','\".join(valid_code)+\"'\"),con = conn)\n",
    "io1.upload(Cash_earnings.sort_values([\"SecuCode\"]),\"MainData\")"
   ]
  },
  {
   "cell_type": "code",
   "execution_count": 155,
   "metadata": {},
   "outputs": [],
   "source": [
    "#自由流通股本单位为股\n",
    "Guben = pd.read_sql(\"\"\"\n",
    "select a.InfoPublDate,b.SecuCode,a.TotalAShare,a.FreeFloats,a.AdjFreeFloats\n",
    "from LC_FreeFloat as a\n",
    "left join SecuMain as b\n",
    "on a.InnerCode = b.InnerCode\n",
    "where b.SecuCode in (%s)\n",
    "and a.InfoPublDate > '2015-01-01'\n",
    "and b.SecuCategory in (1)\n",
    "and b.SecuMarket in (83,90)\n",
    "\"\"\"%(\"'\"+\"','\".join(valid_code)+\"'\"),con = conn)\n",
    "\n",
    "io1.upload(Guben.sort_values([\"SecuCode\"]),\"Guben\")"
   ]
  },
  {
   "cell_type": "code",
   "execution_count": 99,
   "metadata": {},
   "outputs": [],
   "source": [
    "#总资产\\总负债\n",
    "TD_TA = pd.read_sql(\"\"\"\n",
    "select a.TradingDay,b.SecuCode,a.MarketValueToDebt1,a.TotalMV\n",
    "from LC_DIndicesForValuation as a\n",
    "left join SecuMain as b\n",
    "on a.InnerCode = b.InnerCode\n",
    "where b.SecuCode in (%s)\n",
    "and a.TradingDay > '2015-01-01'\n",
    "and b.SecuCategory in (1)\n",
    "and b.SecuMarket in (83,90)\n",
    "\"\"\"%(\"'\"+\"','\".join(valid_code)+\"'\"),con = conn)"
   ]
  },
  {
   "cell_type": "code",
   "execution_count": 101,
   "metadata": {},
   "outputs": [],
   "source": [
    "io1.upload(TD_TA,\"TD_TA\")"
   ]
  },
  {
   "cell_type": "code",
   "execution_count": 185,
   "metadata": {},
   "outputs": [],
   "source": [
    "#上市时间\n",
    "valid_code = io1.load(\"valid_code_chuangye\")"
   ]
  },
  {
   "cell_type": "code",
   "execution_count": 196,
   "metadata": {},
   "outputs": [],
   "source": [
    "ListStatus = pd.read_sql(\"\"\"\n",
    "select a.ChangeDate,b.SecuCode,a.ChangeType,a.Statement,a.ChangeReason\n",
    "from LC_ListStatus as a\n",
    "left join SecuMain as b\n",
    "on a.InnerCode = b.InnerCode\n",
    "where b.SecuCode in (%s)\n",
    "and b.SecuCategory in (1)\n",
    "and b.SecuMarket in (83,90)\n",
    "\"\"\"%(\"'\"+\"','\".join(valid_code)+\"'\"),con = conn)"
   ]
  },
  {
   "cell_type": "code",
   "execution_count": 3,
   "metadata": {},
   "outputs": [],
   "source": [
    "t1 = io1.load(\"ListStatus\")"
   ]
  },
  {
   "cell_type": "code",
   "execution_count": 10,
   "metadata": {},
   "outputs": [],
   "source": [
    "pd.set_option(\"display.max_rows\",500)\n",
    "# t1[pd.Index(t1[\"ChangeType\"]).isin([4])]"
   ]
  },
  {
   "cell_type": "markdown",
   "metadata": {},
   "source": [
    "### csv一致预期文件"
   ]
  },
  {
   "cell_type": "code",
   "execution_count": 30,
   "metadata": {},
   "outputs": [],
   "source": [
    "import warnings\n",
    "warnings.filterwarnings(\"ignore\")\n",
    "SH_ind = pd.read_csv(os.path.join(os.getcwd(),\"data\",\"SH_code.csv\"),header =1,index_col = 0,parse_dates = True)\n",
    "SZ_ind = pd.read_csv(os.path.join(os.getcwd(),\"data\",\"SZcode_indicator.csv\"),header = 1,index_col = 0,parse_dates = True)"
   ]
  },
  {
   "cell_type": "code",
   "execution_count": 67,
   "metadata": {},
   "outputs": [],
   "source": [
    "valid_col1 = [name for name in SH_ind.columns if \"Unname\" not in name]\n",
    "valid_col2 = [name for name in SZ_ind.columns if \"Unname\" not in name]\n",
    "valid_col1_num = [SH_ind.columns.get_loc(name) for name in valid_col1]\n",
    "valid_col2_num = [SZ_ind.columns.get_loc(name) for name in valid_col2]\n",
    "#一预预测净利润2年CAGR->west_netprofit_CAGR\n",
    "#一致预测每股收益->west_eps_FTM\n",
    "#一致预测净利润同比->west_netprofit_YOY\n",
    "SH_ind1 = pd.read_csv(os.path.join(os.getcwd(),\"data\",\"SH_code.csv\"),header =3,index_col = 0,parse_dates = True)\n",
    "SZ_ind1 = pd.read_csv(os.path.join(os.getcwd(),\"data\",\"SZcode_indicator.csv\"),header = 3,index_col = 0,parse_dates = True)"
   ]
  },
  {
   "cell_type": "code",
   "execution_count": 76,
   "metadata": {},
   "outputs": [],
   "source": [
    "netprofit_2Y_CAGR = pd.DataFrame([])\n",
    "temp1 = SH_ind1.iloc[:,valid_col1_num[0]:valid_col1_num[1] - 2]\n",
    "temp2 = SZ_ind1.iloc[:,valid_col2_num[0]:valid_col2_num[1] - 2]\n",
    "netprofit_2Y_CAGR = pd.concat([temp2,temp1],axis = 1)\n",
    "io1.upload(netprofit_2Y_CAGR,\"netprofit_2Y_CAGR\")"
   ]
  },
  {
   "cell_type": "code",
   "execution_count": 83,
   "metadata": {},
   "outputs": [],
   "source": [
    "est_eps = pd.DataFrame([])\n",
    "temp1 = SH_ind1.iloc[:,valid_col1_num[1]:valid_col1_num[2] - 2]\n",
    "temp2 = SZ_ind1.iloc[:,valid_col2_num[1]:valid_col2_num[2] - 2]\n",
    "est_eps = pd.concat([temp2,temp1],axis = 1)\n",
    "io1.upload(est_eps,\"est_eps\")"
   ]
  },
  {
   "cell_type": "code",
   "execution_count": 84,
   "metadata": {},
   "outputs": [],
   "source": [
    "netprofit_1Y_CAGR = pd.DataFrame([])\n",
    "temp1 = SH_ind1.iloc[:,valid_col1_num[2]:]\n",
    "temp2 = SZ_ind1.iloc[:,valid_col2_num[2]:]\n",
    "netprofit_1Y_CAGR = pd.concat([temp2,temp1],axis = 1)\n",
    "io1.upload(netprofit_1Y_CAGR,\"netprofit_1Y_CAGR\")"
   ]
  }
 ],
 "metadata": {
  "kernelspec": {
   "display_name": "Python 3",
   "language": "python",
   "name": "python3"
  },
  "language_info": {
   "codemirror_mode": {
    "name": "ipython",
    "version": 3
   },
   "file_extension": ".py",
   "mimetype": "text/x-python",
   "name": "python",
   "nbconvert_exporter": "python",
   "pygments_lexer": "ipython3",
   "version": "3.7.2"
  }
 },
 "nbformat": 4,
 "nbformat_minor": 2
}
