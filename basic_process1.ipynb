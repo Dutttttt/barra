{
 "cells": [
  {
   "cell_type": "markdown",
   "metadata": {},
   "source": [
    "# 构造因子"
   ]
  },
  {
   "cell_type": "code",
   "execution_count": 2,
   "metadata": {},
   "outputs": [
    {
     "name": "stdout",
     "output_type": "stream",
     "text": [
      "私有属性path更新为: /Users/dt/Desktop/barra/data\n"
     ]
    }
   ],
   "source": [
    "import pandas as pd,numpy as np\n",
    "import sys,os\n",
    "from pdb import set_trace\n",
    "import Redundant_func as Rf\n",
    "import importlib\n",
    "import io_data,Factor\n",
    "io1 = io_data.io_d1()\n",
    "io1.path = {\"value\":\"data\",\"typ\":\"part_name\"}\n",
    "factor_body = Factor.factor_handle()"
   ]
  },
  {
   "cell_type": "code",
   "execution_count": 61,
   "metadata": {},
   "outputs": [],
   "source": [
    "import tushare as ts\n",
    "pro = ts.pro_api()\n",
    "stock_panel_l = pro.stock_basic(exchange = '',list_status = 'L',market = \"主板\")\n",
    "stock_panel_D = pro.stock_basic(list_status = 'D',market = \"主板\")\n",
    "stock_panel_P = pro.stock_basic(list_status = 'P',market = \"主板\")"
   ]
  },
  {
   "cell_type": "code",
   "execution_count": 72,
   "metadata": {},
   "outputs": [],
   "source": [
    "def transfer_code(df):\n",
    "    return df[\"ts_code\"].apply(lambda x:x.split('.')[0]).values\n",
    "\n",
    "all_valid = np.array(list(set(transfer_code(stock_panel_l)).\\\n",
    "union(set(transfer_code(stock_panel_D))).\\\n",
    "union(set(transfer_code(stock_panel_P)))))"
   ]
  },
  {
   "cell_type": "markdown",
   "metadata": {},
   "source": [
    "### 选股池，全部选择主板标的"
   ]
  },
  {
   "cell_type": "code",
   "execution_count": 78,
   "metadata": {},
   "outputs": [
    {
     "data": {
      "text/plain": [
       "<module 'Redundant_func' from '/Users/dt/Desktop/barra/Redundant_func.py'>"
      ]
     },
     "execution_count": 78,
     "metadata": {},
     "output_type": "execute_result"
    }
   ],
   "source": [
    "stock_pool_datahs300 = io1.load(\"HS_comp\")\n",
    "stock_pool_datazz500 = io1.load(\"ZZ_comp\")\n",
    "importlib.reload(Rf)"
   ]
  },
  {
   "cell_type": "code",
   "execution_count": 52,
   "metadata": {},
   "outputs": [],
   "source": [
    "dynamic_stock_poolhs300 = Rf.component_select_code(stock_pool_datahs300,\\\n",
    "                                            start_time = pd.to_datetime(\"2018-01-01\"),\\\n",
    "                                           end_time = pd.to_datetime(\"2021-12-10\"))\n",
    "dynamic_stock_poolzz500 = Rf.component_select_code(stock_pool_datazz500,\\\n",
    "                                            start_time = pd.to_datetime(\"2018-01-01\"),\\\n",
    "                                           end_time = pd.to_datetime(\"2021-12-10\"))"
   ]
  },
  {
   "cell_type": "code",
   "execution_count": 54,
   "metadata": {},
   "outputs": [
    {
     "data": {
      "text/plain": [
       "((458,), (856,))"
      ]
     },
     "execution_count": 54,
     "metadata": {},
     "output_type": "execute_result"
    }
   ],
   "source": [
    "#动态成分股\n",
    "dynamic_stock_poolhs300.shape,dynamic_stock_poolzz500.shape"
   ]
  },
  {
   "cell_type": "code",
   "execution_count": 55,
   "metadata": {},
   "outputs": [
    {
     "data": {
      "text/plain": [
       "((449,), (850,))"
      ]
     },
     "execution_count": 55,
     "metadata": {},
     "output_type": "execute_result"
    }
   ],
   "source": [
    "#非科创板标的\n",
    "valid_codehs300 = Rf.extract_valid_code(dynamic_stock_poolhs300)\n",
    "valid_codezz500 = Rf.extract_valid_code(dynamic_stock_poolzz500)\n",
    "valid_codehs300.shape,valid_codezz500.shape"
   ]
  },
  {
   "cell_type": "code",
   "execution_count": 79,
   "metadata": {},
   "outputs": [],
   "source": [
    "#主板标的\n",
    "valid_zbhs300 = Rf.get_valid_zb_code(all_valid,valid_codehs300)\n",
    "valid_zbzz500 = Rf.get_valid_zb_code(all_valid,valid_codezz500)"
   ]
  },
  {
   "cell_type": "code",
   "execution_count": 1033,
   "metadata": {},
   "outputs": [
    {
     "data": {
      "text/plain": [
       "(330,)"
      ]
     },
     "execution_count": 1033,
     "metadata": {},
     "output_type": "execute_result"
    }
   ],
   "source": [
    "valid_zbhs300.shape"
   ]
  },
  {
   "cell_type": "markdown",
   "metadata": {},
   "source": [
    "### Beta_Hisgma"
   ]
  },
  {
   "cell_type": "code",
   "execution_count": 1034,
   "metadata": {},
   "outputs": [],
   "source": [
    "hs300_ret = io1.load(\"hs300_price\")\n",
    "individual_ret = io1.load(\"Individual_ret\")"
   ]
  },
  {
   "cell_type": "code",
   "execution_count": 343,
   "metadata": {},
   "outputs": [],
   "source": [
    "importlib.reload(Factor)\n",
    "factor_body = Factor.factor_handle()\n",
    "# beta,hisgma = factor_body.beta_HSIGMA(ret_index = hs300_ret[[\"TradingDay\",\"SecuCode\",\"ChangePCT\"]],\\\n",
    "#                                ret_individual = individual_ret[[\"TradingDay\",\"SecuCode\",\"ChangePCT\"]])\n",
    "#io1.upload(factor_body,\"factor_beta_hisgma11\")"
   ]
  },
  {
   "cell_type": "markdown",
   "metadata": {},
   "source": [
    "### Momentum"
   ]
  },
  {
   "cell_type": "code",
   "execution_count": 1035,
   "metadata": {},
   "outputs": [],
   "source": [
    "t1 = individual_ret[[\"TradingDay\",\"SecuCode\",\"ChangePCT\"]]\n",
    "t11 = t1[t1[\"SecuCode\"] == \"000001\"]"
   ]
  },
  {
   "cell_type": "code",
   "execution_count": 267,
   "metadata": {},
   "outputs": [],
   "source": [
    "momentum = factor_body.momentum(individual_ret[[\"TradingDay\",\"SecuCode\",\"ChangePCT\"]])\n",
    "io1.upload(factor_body,\"factor_momentum\")"
   ]
  },
  {
   "cell_type": "markdown",
   "metadata": {},
   "source": [
    "### Size"
   ]
  },
  {
   "cell_type": "code",
   "execution_count": 269,
   "metadata": {},
   "outputs": [],
   "source": [
    "size_raw_data = io1.load(\"TotalAsset_volume\")"
   ]
  },
  {
   "cell_type": "code",
   "execution_count": 285,
   "metadata": {},
   "outputs": [],
   "source": [
    "# size = factor_body.size(size_raw_data[[\"TradingDay\",\"SecuCode\",\"TotalMV\"]])\n",
    "# io1.upload(factor_body,\"factor_size\")"
   ]
  },
  {
   "cell_type": "markdown",
   "metadata": {},
   "source": [
    "### EPIBS"
   ]
  },
  {
   "cell_type": "code",
   "execution_count": 525,
   "metadata": {},
   "outputs": [],
   "source": [
    "Price = io1.load(\"Individual_ret\")\n",
    "expected_eps = io1.load(\"est_eps\")\n",
    "importlib.reload(io_data)\n",
    "expected_eps1 = io_data.tackle_csv(expected_eps)"
   ]
  },
  {
   "cell_type": "code",
   "execution_count": 526,
   "metadata": {},
   "outputs": [
    {
     "name": "stderr",
     "output_type": "stream",
     "text": [
      "/Applications/anaconda/anaconda3/lib/python3.7/site-packages/pandas/core/frame.py:4315: SettingWithCopyWarning: \n",
      "A value is trying to be set on a copy of a slice from a DataFrame\n",
      "\n",
      "See the caveats in the documentation: https://pandas.pydata.org/pandas-docs/stable/user_guide/indexing.html#returning-a-view-versus-a-copy\n",
      "  errors=errors,\n"
     ]
    }
   ],
   "source": [
    "importlib.reload(Factor)\n",
    "factor_body = Factor.factor_handle()\n",
    "Price_use = Price[[\"TradingDay\",\"SecuCode\",\"ClosePrice\"]]\n",
    "Price_use = Price_use.rename(columns = {\"ClosePrice\":\"value\"})\n",
    "EPIBS = factor_body.EPIBS(expected_eps1,\\\n",
    "                          Price_use)\n",
    "\n",
    "io1.upload(factor_body,\"factor_EPIBS\")"
   ]
  },
  {
   "cell_type": "code",
   "execution_count": 1154,
   "metadata": {},
   "outputs": [
    {
     "data": {
      "text/html": [
       "<div>\n",
       "<style scoped>\n",
       "    .dataframe tbody tr th:only-of-type {\n",
       "        vertical-align: middle;\n",
       "    }\n",
       "\n",
       "    .dataframe tbody tr th {\n",
       "        vertical-align: top;\n",
       "    }\n",
       "\n",
       "    .dataframe thead th {\n",
       "        text-align: right;\n",
       "    }\n",
       "</style>\n",
       "<table border=\"1\" class=\"dataframe\">\n",
       "  <thead>\n",
       "    <tr style=\"text-align: right;\">\n",
       "      <th></th>\n",
       "      <th>SecuCode</th>\n",
       "      <th>value</th>\n",
       "    </tr>\n",
       "    <tr>\n",
       "      <th>TradingDay</th>\n",
       "      <th></th>\n",
       "      <th></th>\n",
       "    </tr>\n",
       "  </thead>\n",
       "  <tbody>\n",
       "    <tr>\n",
       "      <th>2018-01-02</th>\n",
       "      <td>000001</td>\n",
       "      <td>1.4766</td>\n",
       "    </tr>\n",
       "    <tr>\n",
       "      <th>2018-01-03</th>\n",
       "      <td>000001</td>\n",
       "      <td>1.4769</td>\n",
       "    </tr>\n",
       "    <tr>\n",
       "      <th>2018-01-04</th>\n",
       "      <td>000001</td>\n",
       "      <td>1.4772</td>\n",
       "    </tr>\n",
       "    <tr>\n",
       "      <th>2018-01-05</th>\n",
       "      <td>000001</td>\n",
       "      <td>1.4775</td>\n",
       "    </tr>\n",
       "    <tr>\n",
       "      <th>2018-01-08</th>\n",
       "      <td>000001</td>\n",
       "      <td>1.4797</td>\n",
       "    </tr>\n",
       "    <tr>\n",
       "      <th>...</th>\n",
       "      <td>...</td>\n",
       "      <td>...</td>\n",
       "    </tr>\n",
       "    <tr>\n",
       "      <th>2021-11-25</th>\n",
       "      <td>000001</td>\n",
       "      <td>2.1925</td>\n",
       "    </tr>\n",
       "    <tr>\n",
       "      <th>2021-11-26</th>\n",
       "      <td>000001</td>\n",
       "      <td>2.1935</td>\n",
       "    </tr>\n",
       "    <tr>\n",
       "      <th>2021-11-29</th>\n",
       "      <td>000001</td>\n",
       "      <td>2.1966</td>\n",
       "    </tr>\n",
       "    <tr>\n",
       "      <th>2021-11-30</th>\n",
       "      <td>000001</td>\n",
       "      <td>2.1976</td>\n",
       "    </tr>\n",
       "    <tr>\n",
       "      <th>2021-12-01</th>\n",
       "      <td>000001</td>\n",
       "      <td>2.1986</td>\n",
       "    </tr>\n",
       "  </tbody>\n",
       "</table>\n",
       "<p>951 rows × 2 columns</p>\n",
       "</div>"
      ],
      "text/plain": [
       "           SecuCode   value\n",
       "TradingDay                 \n",
       "2018-01-02   000001  1.4766\n",
       "2018-01-03   000001  1.4769\n",
       "2018-01-04   000001  1.4772\n",
       "2018-01-05   000001  1.4775\n",
       "2018-01-08   000001  1.4797\n",
       "...             ...     ...\n",
       "2021-11-25   000001  2.1925\n",
       "2021-11-26   000001  2.1935\n",
       "2021-11-29   000001  2.1966\n",
       "2021-11-30   000001  2.1976\n",
       "2021-12-01   000001  2.1986\n",
       "\n",
       "[951 rows x 2 columns]"
      ]
     },
     "execution_count": 1154,
     "metadata": {},
     "output_type": "execute_result"
    }
   ],
   "source": [
    "expected_eps1[expected_eps1[\"SecuCode\"] == \"000001\"].set_index(\"TradingDay\").loc[\"2018\":]"
   ]
  },
  {
   "cell_type": "markdown",
   "metadata": {},
   "source": [
    "### ETOP"
   ]
  },
  {
   "cell_type": "code",
   "execution_count": 521,
   "metadata": {},
   "outputs": [],
   "source": [
    "PE = io1.load(\"PE\")\n",
    "_ = factor_body.ETOP(PE)\n",
    "io1.upload(factor_body,\"factor_ETOP\")"
   ]
  },
  {
   "cell_type": "markdown",
   "metadata": {},
   "source": [
    "### CETOP"
   ]
  },
  {
   "cell_type": "code",
   "execution_count": 1039,
   "metadata": {},
   "outputs": [],
   "source": [
    "MainData = io1.load(\"MainData\")\n",
    "Cash = MainData[[\"EndDate\",\"SecuCode\",\"cash_profit\"]]\n",
    "Price = io1.load(\"Individual_ret\")"
   ]
  },
  {
   "cell_type": "code",
   "execution_count": 1057,
   "metadata": {},
   "outputs": [],
   "source": [
    "factor_body = Factor.factor_handle()\n",
    "CETOP = factor_body.CETOP(Cash,Price[[\"TradingDay\",\"SecuCode\",\"ClosePrice\"]])"
   ]
  },
  {
   "cell_type": "code",
   "execution_count": 1058,
   "metadata": {},
   "outputs": [],
   "source": [
    "io1.upload(factor_body,\"factor_CETOP\")"
   ]
  },
  {
   "cell_type": "markdown",
   "metadata": {},
   "source": [
    "### DASTD"
   ]
  },
  {
   "cell_type": "code",
   "execution_count": 723,
   "metadata": {},
   "outputs": [
    {
     "name": "stderr",
     "output_type": "stream",
     "text": [
      "/Applications/anaconda/anaconda3/lib/python3.7/site-packages/ipykernel_launcher.py:5: SettingWithCopyWarning: \n",
      "A value is trying to be set on a copy of a slice from a DataFrame.\n",
      "Try using .loc[row_indexer,col_indexer] = value instead\n",
      "\n",
      "See the caveats in the documentation: https://pandas.pydata.org/pandas-docs/stable/user_guide/indexing.html#returning-a-view-versus-a-copy\n",
      "  \"\"\"\n"
     ]
    }
   ],
   "source": [
    "individual_ret = io1.load(\"Individual_ret\");\n",
    "importlib.reload(Factor);\n",
    "factor_body = Factor.factor_handle();\n",
    "ret_use = individual_ret[[\"TradingDay\",\"SecuCode\",\"ChangePCT\"]];\n",
    "ret_use[\"ChangePCT\"] = ret_use[\"ChangePCT\"]/100;\n",
    "DASTD = factor_body.DASTD(ret_use)\n",
    "io1.upload(factor_body,\"factor_DASTD\")"
   ]
  },
  {
   "cell_type": "markdown",
   "metadata": {},
   "source": [
    "### CMRA"
   ]
  },
  {
   "cell_type": "code",
   "execution_count": 547,
   "metadata": {},
   "outputs": [],
   "source": [
    "ret_df = individual_ret[[\"TradingDay\",\"SecuCode\",\"ChangePCT\"]]\n",
    "ret_df = Factor.factor_handle.cut_time(ret_df,\"TradingDay\").set_index(\"TradingDay\")"
   ]
  },
  {
   "cell_type": "code",
   "execution_count": 558,
   "metadata": {},
   "outputs": [
    {
     "name": "stderr",
     "output_type": "stream",
     "text": [
      "/Applications/anaconda/anaconda3/lib/python3.7/site-packages/ipykernel_launcher.py:4: SettingWithCopyWarning: \n",
      "A value is trying to be set on a copy of a slice from a DataFrame.\n",
      "Try using .loc[row_indexer,col_indexer] = value instead\n",
      "\n",
      "See the caveats in the documentation: https://pandas.pydata.org/pandas-docs/stable/user_guide/indexing.html#returning-a-view-versus-a-copy\n",
      "  after removing the cwd from sys.path.\n",
      "/Applications/anaconda/anaconda3/lib/python3.7/site-packages/pandas/core/frame.py:4315: SettingWithCopyWarning: \n",
      "A value is trying to be set on a copy of a slice from a DataFrame\n",
      "\n",
      "See the caveats in the documentation: https://pandas.pydata.org/pandas-docs/stable/user_guide/indexing.html#returning-a-view-versus-a-copy\n",
      "  errors=errors,\n"
     ]
    }
   ],
   "source": [
    "import warnings\n",
    "warnings.filterwarnings(\"ignore\")\n",
    "importlib.reload(Factor)\n",
    "factor_body = Factor.factor_handle()\n",
    "ret_use = individual_ret[[\"TradingDay\",\"SecuCode\",\"ChangePCT\"]];\n",
    "ret_use[\"ChangePCT\"] = ret_use[\"ChangePCT\"]/100\n",
    "CMRA = factor_body.CMRA(ret_use)\n",
    "io1.upload(factor_body,\"factor_CMRA\")"
   ]
  },
  {
   "cell_type": "markdown",
   "metadata": {},
   "source": [
    "### SGRO"
   ]
  },
  {
   "cell_type": "code",
   "execution_count": 765,
   "metadata": {},
   "outputs": [],
   "source": [
    "MainData = io1.load(\"MainData\")\n",
    "Operate = MainData[[\"EndDate\",\"SecuCode\",\"All_Income\"]]\n",
    "Operate = Operate.rename(columns = {\"EndDate\":\"TradingDay\",\"All_Income\":\"value\"})\n",
    "importlib.reload(Factor)\n",
    "factor_body = Factor.factor_handle()\n",
    "SGRO = factor_body.SGRO(Operate)\n",
    "io1.upload(factor_body,\"factor_SGRO\")"
   ]
  },
  {
   "cell_type": "markdown",
   "metadata": {},
   "source": [
    "### EGRO"
   ]
  },
  {
   "cell_type": "code",
   "execution_count": 790,
   "metadata": {},
   "outputs": [],
   "source": [
    "Mu_profit = MainData[[\"EndDate\",\"SecuCode\",\"Mu_profit\"]]\n",
    "Mu_profit = Mu_profit.rename(columns = {\"EndDate\":\"TradingDay\",\"Mu_profit\":\"value\"})\n",
    "importlib.reload(Factor)\n",
    "factor_body = Factor.factor_handle()\n",
    "EGRO = factor_body.EGRO(Mu_profit)\n",
    "io1.upload(factor_body,\"factor_EGRO\")"
   ]
  },
  {
   "cell_type": "markdown",
   "metadata": {},
   "source": [
    "### EGIB"
   ]
  },
  {
   "cell_type": "code",
   "execution_count": 1067,
   "metadata": {},
   "outputs": [],
   "source": [
    "netprofit_2Y_CAGR = io1.load(\"netprofit_2Y_CAGR\")\n",
    "netprofit_2Y_CAGR = io_data.tackle_csv(netprofit_2Y_CAGR)"
   ]
  },
  {
   "cell_type": "code",
   "execution_count": 776,
   "metadata": {},
   "outputs": [],
   "source": [
    "importlib.reload(Factor)\n",
    "factor_body = Factor.factor_handle()\n",
    "EGIB = factor_body.EGIB(netprofit_2Y_CAGR)\n",
    "io1.upload(factor_body,\"factor_EGIB\")"
   ]
  },
  {
   "cell_type": "markdown",
   "metadata": {},
   "source": [
    "### EGIB_S"
   ]
  },
  {
   "cell_type": "code",
   "execution_count": 777,
   "metadata": {},
   "outputs": [],
   "source": [
    "netprofit_1Y_CAGR = io1.load(\"netprofit_1Y_CAGR\")\n",
    "netprofit_1Y_CAGR = io_data.tackle_csv(netprofit_1Y_CAGR)"
   ]
  },
  {
   "cell_type": "code",
   "execution_count": 781,
   "metadata": {},
   "outputs": [],
   "source": [
    "importlib.reload(Factor)\n",
    "factor_body = Factor.factor_handle()\n",
    "EGIB_S = factor_body.EGIB_S(netprofit_1Y_CAGR)\n",
    "io1.upload(factor_body,\"factor_EGIB_S\")"
   ]
  },
  {
   "cell_type": "markdown",
   "metadata": {},
   "source": [
    "### BTOP"
   ]
  },
  {
   "cell_type": "code",
   "execution_count": 1081,
   "metadata": {},
   "outputs": [],
   "source": [
    "MainData = io1.load(\"MainData\")\n",
    "common_equity = MainData[[\"EndDate\",\"SecuCode\",\"TotalShareholderEquity\"]]\n",
    "Size = io1.load(\"TotalAsset_volume\")\n",
    "size = Size[[\"TradingDay\",\"SecuCode\",\"TotalMV\"]]\n",
    "size = size.rename(columns = {\"TotalMV\":\"value\"})\n",
    "common_equity = common_equity.rename(columns = {\"TotalShareholderEquity\":\"value\",\"EndDate\":\"TradingDay\"})"
   ]
  },
  {
   "cell_type": "code",
   "execution_count": 1097,
   "metadata": {},
   "outputs": [],
   "source": [
    "importlib.reload(Factor)\n",
    "factor_body = Factor.factor_handle()\n",
    "BTOP = factor_body.BTOP(common_equity,size)\n",
    "io1.upload(factor_body,\"factor_BTOP\")"
   ]
  },
  {
   "cell_type": "markdown",
   "metadata": {},
   "source": [
    "### MLEV"
   ]
  },
  {
   "cell_type": "code",
   "execution_count": 1102,
   "metadata": {},
   "outputs": [],
   "source": [
    "Size = io1.load(\"TotalAsset_volume\")\n",
    "size = Size[[\"TradingDay\",\"SecuCode\",\"TotalMV\"]];\n",
    "size = size.rename(columns = {\"TotalMV\":\"value\"});\n",
    "size[\"value\"] *= 10000;\n",
    "Long_Liability = io1.load(\"Long_Liability\");\n",
    "LD = Long_Liability[[\"EndDate\",\"SecuCode\",\"TotalLongtermLiability\"]]\n",
    "LD = LD.rename(columns = {\"EndDate\":\"TradingDay\",\"TotalLongtermLiability\":\"value\"})\n",
    "LD = LD.groupby([\"SecuCode\",\"TradingDay\"]).\\\n",
    "apply(lambda x:pd.Series(x.iloc[0,x.columns.get_loc(\"value\")],index = [\"value\"])).reset_index()"
   ]
  },
  {
   "cell_type": "code",
   "execution_count": 1103,
   "metadata": {},
   "outputs": [],
   "source": [
    "importlib.reload(Factor)\n",
    "factor_body = Factor.factor_handle()\n",
    "MLEV = factor_body.MLEV(size,LD)\n",
    "io1.upload(factor_body,\"factor_MLEV\")"
   ]
  },
  {
   "cell_type": "markdown",
   "metadata": {},
   "source": [
    "### DTOA"
   ]
  },
  {
   "cell_type": "code",
   "execution_count": 995,
   "metadata": {},
   "outputs": [],
   "source": [
    "TD = io1.load(\"TD_TA\")"
   ]
  },
  {
   "cell_type": "code",
   "execution_count": 1111,
   "metadata": {},
   "outputs": [],
   "source": [
    "importlib.reload(Factor)\n",
    "factor_body = Factor.factor_handle()\n",
    "DTOA = factor_body.DTOA(TD[[\"TradingDay\",\"SecuCode\",\"MarketValueToDebt1\"]].set_index(\"TradingDay\")) \n",
    "io1.upload(factor_body,\"factor_DTOA\")"
   ]
  },
  {
   "cell_type": "markdown",
   "metadata": {},
   "source": [
    "### BLEV"
   ]
  },
  {
   "cell_type": "code",
   "execution_count": 867,
   "metadata": {},
   "outputs": [],
   "source": [
    "MainData = io1.load(\"MainData\")\n",
    "BE = MainData[[\"EndDate\",\"SecuCode\",\"TotalShareholderEquity\"]]\n",
    "BE = BE.rename(columns = {\"EndDate\":\"TradingDay\",\"TotalShareholderEquity\":\"value\"})"
   ]
  },
  {
   "cell_type": "code",
   "execution_count": 873,
   "metadata": {},
   "outputs": [],
   "source": [
    "Long_Liability = io1.load(\"Long_Liability\");\n",
    "LD = Long_Liability[[\"EndDate\",\"SecuCode\",\"TotalLongtermLiability\"]]\n",
    "LD = LD.rename(columns = {\"EndDate\":\"TradingDay\",\"TotalLongtermLiability\":\"value\"})\n",
    "LD = LD.groupby([\"SecuCode\",\"TradingDay\"]).\\\n",
    "apply(lambda x:pd.Series(x.iloc[0,x.columns.get_loc(\"value\")],index = [\"value\"])).reset_index()\n",
    "LD = LD.reindex(columns = BE.columns)"
   ]
  },
  {
   "cell_type": "code",
   "execution_count": 1141,
   "metadata": {},
   "outputs": [],
   "source": [
    "importlib.reload(Factor)\n",
    "factor_body = Factor.factor_handle()\n",
    "BLEV = factor_body.BLEV(BE,LD)\n",
    "io1.upload(factor_body,\"factor_BLEV\")"
   ]
  },
  {
   "cell_type": "markdown",
   "metadata": {},
   "source": [
    "### STOM"
   ]
  },
  {
   "cell_type": "code",
   "execution_count": 890,
   "metadata": {},
   "outputs": [],
   "source": [
    "TurnoverVolume = io1.load(\"TotalAsset_volume\")\n",
    "MainData = io1.load(\"MainData\")\n",
    "\n",
    "#两个表时间轴问题\n",
    "Shares = MainData[[\"EndDate\",\"SecuCode\",\"TotalShares\"]]\n",
    "Shares = Shares.rename(columns = {\"EndDate\":\"TradingDay\"})\n",
    "Shares = Shares[Shares[\"TradingDay\"] >= pd.to_datetime(\"2015-01-01\")].sort_values([\"SecuCode\",\"TradingDay\"])\n",
    "\n",
    "TurnoverVolume = TurnoverVolume[[\"TradingDay\",\"SecuCode\",\"TurnoverVolume\"]]\n",
    "TurnoverVolume[\"TurnoverVolume\"] *= 10000 #成交量单位是万股\n",
    "\n",
    "STOM_df = pd.merge(TurnoverVolume,Shares,left_on = [\"TradingDay\",\"SecuCode\"],right_on = [\"TradingDay\",\"SecuCode\"],how = \"outer\")\\\n",
    ".sort_values([\"SecuCode\",\"TradingDay\"])\n",
    "STOM_df = STOM_df.groupby([\"SecuCode\"]).apply(lambda x:x.ffill())\n",
    "STOM_df = STOM_df.rename(columns = {\"TurnoverVolume\":\"Volume\",\"TotalShares\":\"Stock_equity\"})"
   ]
  },
  {
   "cell_type": "code",
   "execution_count": 1014,
   "metadata": {},
   "outputs": [],
   "source": [
    "importlib.reload(Factor)\n",
    "import warnings\n",
    "warnings.filterwarnings(\"ignore\")\n",
    "factor_body = Factor.factor_handle()\n",
    "STOM = factor_body.STOM(STOM_df)\n",
    "io1.upload(factor_body,\"factor_STOM\")"
   ]
  },
  {
   "cell_type": "markdown",
   "metadata": {},
   "source": [
    "### STOQ"
   ]
  },
  {
   "cell_type": "code",
   "execution_count": 1021,
   "metadata": {},
   "outputs": [],
   "source": [
    "STOM_ori = STOM.rename(columns = {\"index\":\"TradingDay\"})\n",
    "factor_body = Factor.factor_handle()\n",
    "STOQ = factor_body.STOQ(STOM_ori)\n",
    "io1.upload(factor_body,\"factor_STOQ\")"
   ]
  },
  {
   "cell_type": "markdown",
   "metadata": {},
   "source": [
    "### STOA"
   ]
  },
  {
   "cell_type": "code",
   "execution_count": 1031,
   "metadata": {},
   "outputs": [],
   "source": [
    "importlib.reload(Factor)\n",
    "factor_body = Factor.factor_handle()\n",
    "STOA = factor_body.STOA(STOM_ori)\n",
    "io1.upload(factor_body,\"factor_STOA\")"
   ]
  },
  {
   "cell_type": "code",
   "execution_count": 1146,
   "metadata": {},
   "outputs": [],
   "source": [
    "#EPIBS,EGIB,EGIB_S"
   ]
  }
 ],
 "metadata": {
  "kernelspec": {
   "display_name": "Python 3",
   "language": "python",
   "name": "python3"
  },
  "language_info": {
   "codemirror_mode": {
    "name": "ipython",
    "version": 3
   },
   "file_extension": ".py",
   "mimetype": "text/x-python",
   "name": "python",
   "nbconvert_exporter": "python",
   "pygments_lexer": "ipython3",
   "version": "3.7.2"
  }
 },
 "nbformat": 4,
 "nbformat_minor": 2
}
