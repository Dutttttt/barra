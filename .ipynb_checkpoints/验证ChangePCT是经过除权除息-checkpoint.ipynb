{
 "cells": [
  {
   "cell_type": "code",
   "execution_count": 88,
   "metadata": {},
   "outputs": [],
   "source": [
    "import sys,os,pickle\n",
    "from pdb import set_trace\n",
    "import pandas as pd,numpy as np\n",
    "import io_data\n",
    "dir_path = r\"/Users/dt/Desktop/barra/data\"\n",
    "io1 = io_data.io_d1(r\"/Users/dt/Desktop/barra/data\")\n",
    "valid_code = io1.load(\"valid_code_chuangye\")\n",
    "ind_ret = io1.load(\"individual_ret\")\n",
    "fuquan_factor = io1.load(\"fuquan\")\n",
    "\n",
    "def cut_time(df,time_col_name,start_time = pd.to_datetime(\"2018-01-01\"),end_time = pd.to_datetime(\"2021-12-01\")):\n",
    "    use_col = df.columns.get_loc(time_col_name)\n",
    "    return df[(df.iloc[:,use_col] < end_time)&(df.iloc[:,use_col] > start_time)]"
   ]
  },
  {
   "cell_type": "code",
   "execution_count": 89,
   "metadata": {},
   "outputs": [],
   "source": [
    "name_temp = \"000568\"\n",
    "corp1 = sorted(pd.unique(fuquan_factor[\"SecuCode\"]))\n",
    "corp2 = sorted(pd.unique(ind_ret[\"SecuCode\"]))\n",
    "common_corp = pd.Index(corp1).intersection(pd.Index(corp2))\n",
    "\n",
    "fuquan_temp = fuquan_factor.loc[fuquan_factor[\"SecuCode\"] == name_temp,[\"ExDiviDate\",\"AdjustingFactor\",\"AdjustingConst\"]]\n",
    "ind_ret_temp = ind_ret.loc[ind_ret[\"SecuCode\"] == name_temp,[\"TradingDay\",\"ClosePrice\",\"ChangePCT\"]].set_index(\"TradingDay\")\n",
    "\n",
    "fuquan_temp = fuquan_temp.iloc[:8,:].set_index(\"ExDiviDate\")\n",
    "fuquan_temp = pd.concat([fuquan_temp,pd.DataFrame([[None,None]],columns = [\"AdjustingFactor\",\"AdjustingConst\"],\\\n",
    "                                                  index = [pd.to_datetime(\"2021-12-10\")])])\n",
    "fuquan_temp = fuquan_temp.resample(\"B\").ffill()"
   ]
  },
  {
   "cell_type": "code",
   "execution_count": 90,
   "metadata": {},
   "outputs": [],
   "source": [
    "fuquan_ret_table = pd.merge(fuquan_temp,ind_ret_temp,left_index = True,right_index = True)"
   ]
  },
  {
   "cell_type": "code",
   "execution_count": 91,
   "metadata": {},
   "outputs": [],
   "source": [
    "fuquan_ret_table[\"Backward_ClosePrice\"] = \\\n",
    "fuquan_ret_table[\"ClosePrice\"]*fuquan_ret_table[\"AdjustingFactor\"] + fuquan_ret_table[\"AdjustingConst\"]"
   ]
  },
  {
   "cell_type": "code",
   "execution_count": 92,
   "metadata": {},
   "outputs": [],
   "source": [
    "fuquan_ret_table[\"Back_ChangePCT\"] = fuquan_ret_table[\"Backward_ClosePrice\"].pct_change()"
   ]
  },
  {
   "cell_type": "code",
   "execution_count": 95,
   "metadata": {},
   "outputs": [],
   "source": [
    "#恒生聚源后复权数据有问题，不如直接使用ChangePCT"
   ]
  }
 ],
 "metadata": {
  "kernelspec": {
   "display_name": "Python 3",
   "language": "python",
   "name": "python3"
  },
  "language_info": {
   "codemirror_mode": {
    "name": "ipython",
    "version": 3
   },
   "file_extension": ".py",
   "mimetype": "text/x-python",
   "name": "python",
   "nbconvert_exporter": "python",
   "pygments_lexer": "ipython3",
   "version": "3.7.2"
  }
 },
 "nbformat": 4,
 "nbformat_minor": 2
}
