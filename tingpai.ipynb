{
 "cells": [
  {
   "cell_type": "code",
   "execution_count": 3,
   "metadata": {},
   "outputs": [],
   "source": [
    "import sys,os,pickle\n",
    "from pdb import set_trace\n",
    "import pandas as pd,numpy as np\n",
    "import io_data\n",
    "dir_path = r\"/Users/dt/Desktop/barra/data\"\n",
    "io1 = io_data.io_d1(r\"/Users/dt/Desktop/barra/data\")"
   ]
  },
  {
   "cell_type": "code",
   "execution_count": 76,
   "metadata": {},
   "outputs": [],
   "source": [
    "valid_code = io1.load(\"valid_code_chuangye\")\n",
    "ind_ret = io1.load(\"individual_ret\")\n",
    "hs300_ret = io1.load(\"hs300_price\")"
   ]
  },
  {
   "cell_type": "code",
   "execution_count": 13,
   "metadata": {},
   "outputs": [],
   "source": [
    "def cut_time(df,time_col_name,start_time = pd.to_datetime(\"2018-01-01\"),end_time = pd.to_datetime(\"2021-12-01\")):\n",
    "    use_col = df.columns.get_loc(time_col_name)\n",
    "    return df[(df.iloc[:,use_col] < end_time)&(df.iloc[:,use_col] > start_time)]"
   ]
  },
  {
   "cell_type": "code",
   "execution_count": 119,
   "metadata": {},
   "outputs": [],
   "source": [
    "# # import tushare as ts\n",
    "# # pro = ts.pro_api()\n",
    "\n",
    "# import datetime,time\n",
    "# all_day = list(map(lambda x:pd.to_datetime(x).strftime(\"%Y%m%d\"),pd.unique(ind_ret[\"TradingDay\"])))\n",
    "# valid_day = [day for day in all_day if day > \"2016-08-04\"]\n",
    "# # tp_info = pd.DataFrame([])\n",
    "# for day in valid_day:\n",
    "#     print(datetime.datetime.now(),\"\\t\"+day)\n",
    "#     df = pro.suspend_d(suspend_type = 'S',trade_date = day)\n",
    "#     tp_info = pd.concat([tp_info,df],axis=0,ignore_index=True)\n",
    "#     time.sleep(3)"
   ]
  },
  {
   "cell_type": "code",
   "execution_count": 164,
   "metadata": {},
   "outputs": [],
   "source": [
    "import warnings\n",
    "warnings.filterwarnings(\"ignore\")\n",
    "SH_data = pd.read_csv(os.path.join(dir_path,\"SH_code.csv\"),encoding=\"gbk\",header= 1,index_col = 0)\n",
    "SZ_data = pd.read_csv(os.path.join(dir_path,\"SZcode_indicator.csv\"),encoding=\"gbk\",header = 1,index_col = 0)"
   ]
  },
  {
   "cell_type": "code",
   "execution_count": 165,
   "metadata": {},
   "outputs": [],
   "source": [
    "valid_col = [name for name in SH_data.columns if \"Unnamed\" not in name]\n",
    "valid_col_num = [SH_data.columns.get_loc(name) for name in valid_col]\n",
    "valid_col2 = [name for name in SZ_data.columns if \"Unnamed\" not in name]\n",
    "valid_col_num2 = [SZ_data.columns.get_loc(name) for name in valid_col2]"
   ]
  },
  {
   "cell_type": "code",
   "execution_count": 171,
   "metadata": {},
   "outputs": [],
   "source": [
    "est_eps = pd.DataFrame([])\n",
    "netprofit_2Y_CAGR = pd.DataFrame([])\n",
    "netprofit_1Y_CAGR = pd.DataFrame([])\n",
    "#netprofit_CAGR\n",
    "SH_netprofit_2Y = SH_data.iloc[:,0:valid_col_num[1] - 2]\n",
    "SH_netprofit_2Y.columns = SH_netprofit_2Y.iloc[1,:]\n",
    "SZ_netprofit_2Y = SZ_data.iloc[:,0:valid_col_num2[1] - 2]\n",
    "SZ_netprofit_2Y.columns = SZ_netprofit_2Y.iloc[1,:]\n",
    "netprofit_2Y_CAGR = pd.concat([SZ_netprofit_2Y,SH_netprofit_2Y],axis=1)\n",
    "\n",
    "#est_eps\n",
    "SH_est_eps = SH_data.iloc[:,valid_col_num[1]:valid_col_num[2] - 2]\n",
    "SH_est_eps.columns = SH_est_eps.iloc[1,:]\n",
    "SZ_est_eps = SZ_data.iloc[:,valid_col_num2[1]:valid_col_num2[2] - 2]\n",
    "SZ_est_eps.columns = SZ_est_eps.iloc[1,:]\n",
    "est_eps = pd.concat([SZ_est_eps,SH_est_eps],axis= 1)\n",
    "\n",
    "#netprofit_1Y_CAGR\n",
    "SH_netprofit_1Y = SH_data.iloc[:,valid_col_num[2]:]\n",
    "SH_netprofit_1Y.columns = SH_netprofit_1Y.iloc[1,:]\n",
    "SZ_netprofit_1Y = SZ_data.iloc[:,valid_col_num2[2]:]\n",
    "SZ_netprofit_1Y.columns = SZ_netprofit_1Y.iloc[1,:]\n",
    "netprofit_1Y_CAGR = pd.concat([SZ_netprofit_1Y,SH_netprofit_1Y],axis = 1)"
   ]
  },
  {
   "cell_type": "code",
   "execution_count": 188,
   "metadata": {},
   "outputs": [],
   "source": [
    "pd.set_option('display.max_rows',100)\n",
    "io1.upload(netprofit_2Y_CAGR.iloc[2:,:],\"netprofit_2Y_CAGR\")\n",
    "io1.upload(est_eps.iloc[2:,:],\"est_eps\")\n",
    "io1.upload(netprofit_1Y_CAGR.iloc[2:,:],\"netprofit_1Y_CAGR\")"
   ]
  },
  {
   "cell_type": "code",
   "execution_count": 177,
   "metadata": {},
   "outputs": [],
   "source": [
    "P = io1.load(\"individual_ret\")"
   ]
  },
  {
   "cell_type": "code",
   "execution_count": 229,
   "metadata": {},
   "outputs": [],
   "source": [
    "cash_earnings = io1.load(\"MainData\")"
   ]
  },
  {
   "cell_type": "code",
   "execution_count": 255,
   "metadata": {},
   "outputs": [
    {
     "data": {
      "text/html": [
       "<div>\n",
       "<style scoped>\n",
       "    .dataframe tbody tr th:only-of-type {\n",
       "        vertical-align: middle;\n",
       "    }\n",
       "\n",
       "    .dataframe tbody tr th {\n",
       "        vertical-align: top;\n",
       "    }\n",
       "\n",
       "    .dataframe thead th {\n",
       "        text-align: right;\n",
       "    }\n",
       "</style>\n",
       "<table border=\"1\" class=\"dataframe\">\n",
       "  <thead>\n",
       "    <tr style=\"text-align: right;\">\n",
       "      <th></th>\n",
       "      <th>InfoPublDate</th>\n",
       "      <th>EndDate</th>\n",
       "      <th>SecuCode</th>\n",
       "      <th>TotalShareholderEquity</th>\n",
       "      <th>Mu_profit</th>\n",
       "      <th>All_Income</th>\n",
       "      <th>TotalShares</th>\n",
       "    </tr>\n",
       "  </thead>\n",
       "  <tbody>\n",
       "    <tr>\n",
       "      <th>47427</th>\n",
       "      <td>2020-10-10</td>\n",
       "      <td>2017-12-31</td>\n",
       "      <td>605499</td>\n",
       "      <td>8.711130e+08</td>\n",
       "      <td>1.710605e+09</td>\n",
       "      <td>2.844535e+09</td>\n",
       "      <td>NaN</td>\n",
       "    </tr>\n",
       "    <tr>\n",
       "      <th>47428</th>\n",
       "      <td>2021-05-07</td>\n",
       "      <td>2018-12-31</td>\n",
       "      <td>605499</td>\n",
       "      <td>1.086944e+09</td>\n",
       "      <td>6.703183e+08</td>\n",
       "      <td>3.038946e+09</td>\n",
       "      <td>350000000.0</td>\n",
       "    </tr>\n",
       "    <tr>\n",
       "      <th>47429</th>\n",
       "      <td>2021-05-07</td>\n",
       "      <td>2019-12-31</td>\n",
       "      <td>605499</td>\n",
       "      <td>1.635181e+09</td>\n",
       "      <td>2.591598e+09</td>\n",
       "      <td>4.210527e+09</td>\n",
       "      <td>360000000.0</td>\n",
       "    </tr>\n",
       "    <tr>\n",
       "      <th>47430</th>\n",
       "      <td>2021-05-07</td>\n",
       "      <td>2020-03-31</td>\n",
       "      <td>605499</td>\n",
       "      <td>NaN</td>\n",
       "      <td>NaN</td>\n",
       "      <td>9.333074e+08</td>\n",
       "      <td>360000000.0</td>\n",
       "    </tr>\n",
       "    <tr>\n",
       "      <th>47431</th>\n",
       "      <td>2021-07-29</td>\n",
       "      <td>2020-06-30</td>\n",
       "      <td>605499</td>\n",
       "      <td>1.716786e+09</td>\n",
       "      <td>2.104608e+09</td>\n",
       "      <td>2.470098e+09</td>\n",
       "      <td>360000000.0</td>\n",
       "    </tr>\n",
       "    <tr>\n",
       "      <th>47432</th>\n",
       "      <td>2021-10-28</td>\n",
       "      <td>2020-09-30</td>\n",
       "      <td>605499</td>\n",
       "      <td>NaN</td>\n",
       "      <td>NaN</td>\n",
       "      <td>4.045055e+09</td>\n",
       "      <td>360000000.0</td>\n",
       "    </tr>\n",
       "    <tr>\n",
       "      <th>47433</th>\n",
       "      <td>2021-10-28</td>\n",
       "      <td>2020-12-31</td>\n",
       "      <td>605499</td>\n",
       "      <td>1.913253e+09</td>\n",
       "      <td>4.315726e+09</td>\n",
       "      <td>4.960477e+09</td>\n",
       "      <td>360000000.0</td>\n",
       "    </tr>\n",
       "    <tr>\n",
       "      <th>47434</th>\n",
       "      <td>2021-05-07</td>\n",
       "      <td>2021-03-31</td>\n",
       "      <td>605499</td>\n",
       "      <td>2.255143e+09</td>\n",
       "      <td>2.141709e+09</td>\n",
       "      <td>1.711775e+09</td>\n",
       "      <td>360000000.0</td>\n",
       "    </tr>\n",
       "    <tr>\n",
       "      <th>47435</th>\n",
       "      <td>2021-07-29</td>\n",
       "      <td>2021-06-30</td>\n",
       "      <td>605499</td>\n",
       "      <td>4.321006e+09</td>\n",
       "      <td>7.300340e+09</td>\n",
       "      <td>3.683441e+09</td>\n",
       "      <td>400010000.0</td>\n",
       "    </tr>\n",
       "    <tr>\n",
       "      <th>47436</th>\n",
       "      <td>2021-10-28</td>\n",
       "      <td>2021-09-30</td>\n",
       "      <td>605499</td>\n",
       "      <td>4.041199e+09</td>\n",
       "      <td>1.006259e+10</td>\n",
       "      <td>5.561941e+09</td>\n",
       "      <td>400010000.0</td>\n",
       "    </tr>\n",
       "  </tbody>\n",
       "</table>\n",
       "</div>"
      ],
      "text/plain": [
       "      InfoPublDate    EndDate SecuCode  TotalShareholderEquity     Mu_profit  \\\n",
       "47427   2020-10-10 2017-12-31   605499            8.711130e+08  1.710605e+09   \n",
       "47428   2021-05-07 2018-12-31   605499            1.086944e+09  6.703183e+08   \n",
       "47429   2021-05-07 2019-12-31   605499            1.635181e+09  2.591598e+09   \n",
       "47430   2021-05-07 2020-03-31   605499                     NaN           NaN   \n",
       "47431   2021-07-29 2020-06-30   605499            1.716786e+09  2.104608e+09   \n",
       "47432   2021-10-28 2020-09-30   605499                     NaN           NaN   \n",
       "47433   2021-10-28 2020-12-31   605499            1.913253e+09  4.315726e+09   \n",
       "47434   2021-05-07 2021-03-31   605499            2.255143e+09  2.141709e+09   \n",
       "47435   2021-07-29 2021-06-30   605499            4.321006e+09  7.300340e+09   \n",
       "47436   2021-10-28 2021-09-30   605499            4.041199e+09  1.006259e+10   \n",
       "\n",
       "         All_Income  TotalShares  \n",
       "47427  2.844535e+09          NaN  \n",
       "47428  3.038946e+09  350000000.0  \n",
       "47429  4.210527e+09  360000000.0  \n",
       "47430  9.333074e+08  360000000.0  \n",
       "47431  2.470098e+09  360000000.0  \n",
       "47432  4.045055e+09  360000000.0  \n",
       "47433  4.960477e+09  360000000.0  \n",
       "47434  1.711775e+09  360000000.0  \n",
       "47435  3.683441e+09  400010000.0  \n",
       "47436  5.561941e+09  400010000.0  "
      ]
     },
     "execution_count": 255,
     "metadata": {},
     "output_type": "execute_result"
    }
   ],
   "source": [
    "cash_earnings[cash_earnings[\"SecuCode\"] == \"605499\"].sort_values(\"EndDate\")"
   ]
  },
  {
   "cell_type": "code",
   "execution_count": 253,
   "metadata": {},
   "outputs": [
    {
     "data": {
      "text/plain": [
       "SecuCode\n",
       "605499    10\n",
       "601156    10\n",
       "000562    11\n",
       "003035    12\n",
       "001203    12\n",
       "          ..\n",
       "002470    39\n",
       "002468    39\n",
       "002465    39\n",
       "600030    39\n",
       "000738    41\n",
       "Length: 1291, dtype: int64"
      ]
     },
     "execution_count": 253,
     "metadata": {},
     "output_type": "execute_result"
    }
   ],
   "source": [
    "cash_earnings.groupby(\"SecuCode\").apply(len).sort_values()"
   ]
  },
  {
   "cell_type": "code",
   "execution_count": 238,
   "metadata": {},
   "outputs": [
    {
     "data": {
      "text/plain": [
       "array([ 0.1705848 , -0.02787036, -0.11988687, -0.24961891,  0.35507764,\n",
       "       -0.05435523, -0.15082296, -0.2172727 ,  0.35366824, -0.05950364])"
      ]
     },
     "execution_count": 238,
     "metadata": {},
     "output_type": "execute_result"
    }
   ],
   "source": [
    "X = np.arange(10);X = X[:,np.newaxis]\n",
    "Y = np.random.random((10,1))\n",
    "import statsmodels.api as sm\n",
    "X1 = sm.add_constant(X)\n",
    "model = sm.OLS(Y,X1)\n",
    "results = model.fit()\n",
    "results.resid"
   ]
  },
  {
   "cell_type": "code",
   "execution_count": 247,
   "metadata": {},
   "outputs": [
    {
     "data": {
      "text/plain": [
       "0.816496580927726"
      ]
     },
     "execution_count": 247,
     "metadata": {},
     "output_type": "execute_result"
    }
   ],
   "source": [
    "np.std(np.arange(3)+1)"
   ]
  },
  {
   "cell_type": "code",
   "execution_count": 244,
   "metadata": {},
   "outputs": [
    {
     "data": {
      "text/plain": [
       "array([ 0.1705848 , -0.02787036, -0.11988687, -0.24961891,  0.35507764,\n",
       "       -0.05435523, -0.15082296, -0.2172727 ,  0.35366824, -0.05950364])"
      ]
     },
     "execution_count": 244,
     "metadata": {},
     "output_type": "execute_result"
    }
   ],
   "source": [
    "Y.flatten() - (X1*results.params).sum(1)"
   ]
  }
 ],
 "metadata": {
  "kernelspec": {
   "display_name": "Python 3",
   "language": "python",
   "name": "python3"
  },
  "language_info": {
   "codemirror_mode": {
    "name": "ipython",
    "version": 3
   },
   "file_extension": ".py",
   "mimetype": "text/x-python",
   "name": "python",
   "nbconvert_exporter": "python",
   "pygments_lexer": "ipython3",
   "version": "3.7.2"
  }
 },
 "nbformat": 4,
 "nbformat_minor": 2
}
